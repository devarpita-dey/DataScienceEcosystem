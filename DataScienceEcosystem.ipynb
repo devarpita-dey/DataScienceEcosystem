{
 "cells": [
  {
   "cell_type": "markdown",
   "id": "0771164f",
   "metadata": {},
   "source": [
    "# Data Science Tools and Ecosystem"
   ]
  },
  {
   "cell_type": "markdown",
   "id": "b5f1a7ef",
   "metadata": {},
   "source": [
    "In this notebook, Data Science Tools and Ecosystem are symmarized."
   ]
  },
  {
   "cell_type": "markdown",
   "id": "ca89771f",
   "metadata": {},
   "source": [
    "Some of the popular languages that Data Scientists use are:\n",
    " 1. Python\n",
    " 2. R\n",
    " 3. SQL\n",
    " 4. C++\n",
    " 5. Java etc..;"
   ]
  },
  {
   "cell_type": "markdown",
   "id": "d2912df8",
   "metadata": {},
   "source": [
    "Some of the commonly used libraries used by Data Scientists include:\n",
    "1. NumPy\n",
    "2. TensorFlow\n",
    "3. SciPy\n",
    "4. Pandas\n",
    "5. PyTorch\n",
    "6. Matplotlib\n",
    "7. Keras\n",
    "8. Scikit-learn etc..;"
   ]
  },
  {
   "cell_type": "markdown",
   "id": "3856b179",
   "metadata": {},
   "source": [
    "|Data Science Tools |\n",
    "|---|\n",
    "|Apache hadhoop|\n",
    "|SAS|\n",
    "|TensorFlow|"
   ]
  },
  {
   "cell_type": "markdown",
   "id": "7a36331f",
   "metadata": {},
   "source": [
    "### Below are a few examples of evaluating arithematic expressions in Python."
   ]
  },
  {
   "cell_type": "code",
   "execution_count": 2,
   "id": "b7f26965",
   "metadata": {},
   "outputs": [
    {
     "data": {
      "text/plain": [
       "17"
      ]
     },
     "execution_count": 2,
     "metadata": {},
     "output_type": "execute_result"
    }
   ],
   "source": [
    "#this is a common arithematic example to multiply and then add integers\n",
    "(3*4)+5"
   ]
  },
  {
   "cell_type": "code",
   "execution_count": 4,
   "id": "8d37510c",
   "metadata": {},
   "outputs": [
    {
     "data": {
      "text/plain": [
       "3.3333333333333335"
      ]
     },
     "execution_count": 4,
     "metadata": {},
     "output_type": "execute_result"
    }
   ],
   "source": [
    "#this will convert 200 minutes to hours by dividing by 60\n",
    "200/60"
   ]
  },
  {
   "cell_type": "markdown",
   "id": "5118c36c",
   "metadata": {},
   "source": [
    "__Objective__\n",
    "* List popular languages for Data Science\n",
    "* List popular libraries for Data Science\n",
    "* List of Well known Data Science Tools\n",
    "* How to provide comments in the cell"
   ]
  },
  {
   "cell_type": "markdown",
   "id": "36530678",
   "metadata": {},
   "source": [
    "## Author\n",
    "Devarpita Dey"
   ]
  },
  {
   "cell_type": "markdown",
   "id": "16a726ce",
   "metadata": {},
   "source": []
  },
  {
   "cell_type": "code",
   "execution_count": null,
   "id": "32a67995",
   "metadata": {},
   "outputs": [],
   "source": []
  }
 ],
 "metadata": {
  "kernelspec": {
   "display_name": "Python 3 (ipykernel)",
   "language": "python",
   "name": "python3"
  },
  "language_info": {
   "codemirror_mode": {
    "name": "ipython",
    "version": 3
   },
   "file_extension": ".py",
   "mimetype": "text/x-python",
   "name": "python",
   "nbconvert_exporter": "python",
   "pygments_lexer": "ipython3",
   "version": "3.11.5"
  }
 },
 "nbformat": 4,
 "nbformat_minor": 5
}
